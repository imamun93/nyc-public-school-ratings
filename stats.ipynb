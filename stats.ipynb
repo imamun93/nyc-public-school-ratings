{
 "cells": [
  {
   "cell_type": "code",
   "execution_count": 1,
   "metadata": {},
   "outputs": [],
   "source": [
    "import pandas as pd\n",
    "from scipy import stats\n",
    "from scipy.stats import ttest_ind, ttest_ind_from_stats\n",
    "from scipy.special import stdtr\n",
    "import numpy as np"
   ]
  },
  {
   "cell_type": "code",
   "execution_count": 2,
   "metadata": {},
   "outputs": [],
   "source": [
    "df= pd.read_csv('school_stats.csv', delimiter= '\\t')"
   ]
  },
  {
   "cell_type": "code",
   "execution_count": 3,
   "metadata": {},
   "outputs": [
    {
     "data": {
      "text/html": [
       "<div>\n",
       "<style scoped>\n",
       "    .dataframe tbody tr th:only-of-type {\n",
       "        vertical-align: middle;\n",
       "    }\n",
       "\n",
       "    .dataframe tbody tr th {\n",
       "        vertical-align: top;\n",
       "    }\n",
       "\n",
       "    .dataframe thead th {\n",
       "        text-align: right;\n",
       "    }\n",
       "</style>\n",
       "<table border=\"1\" class=\"dataframe\">\n",
       "  <thead>\n",
       "    <tr style=\"text-align: right;\">\n",
       "      <th></th>\n",
       "      <th>Name</th>\n",
       "      <th>Math_Avg</th>\n",
       "      <th>Reading_Avg</th>\n",
       "      <th>Attendance_Ratio</th>\n",
       "      <th>Rating</th>\n",
       "    </tr>\n",
       "  </thead>\n",
       "  <tbody>\n",
       "    <tr>\n",
       "      <th>20</th>\n",
       "      <td>GRAMERCY ARTS HIGH SCHOOL</td>\n",
       "      <td>391</td>\n",
       "      <td>391</td>\n",
       "      <td>0.181</td>\n",
       "      <td>3</td>\n",
       "    </tr>\n",
       "    <tr>\n",
       "      <th>21</th>\n",
       "      <td>NYC ISCHOOL</td>\n",
       "      <td>483</td>\n",
       "      <td>473</td>\n",
       "      <td>0.086</td>\n",
       "      <td>4</td>\n",
       "    </tr>\n",
       "    <tr>\n",
       "      <th>22</th>\n",
       "      <td>MANHATTAN BUSINESS ACADEMY</td>\n",
       "      <td>0</td>\n",
       "      <td>0</td>\n",
       "      <td>0.184</td>\n",
       "      <td>3</td>\n",
       "    </tr>\n",
       "    <tr>\n",
       "      <th>23</th>\n",
       "      <td>BUSINESS OF SPORTS SCHOOL</td>\n",
       "      <td>0</td>\n",
       "      <td>0</td>\n",
       "      <td>0.186</td>\n",
       "      <td>3</td>\n",
       "    </tr>\n",
       "    <tr>\n",
       "      <th>24</th>\n",
       "      <td>EMMA LAZARUS HIGH SCHOOL</td>\n",
       "      <td>512</td>\n",
       "      <td>319</td>\n",
       "      <td>0.076</td>\n",
       "      <td>3</td>\n",
       "    </tr>\n",
       "  </tbody>\n",
       "</table>\n",
       "</div>"
      ],
      "text/plain": [
       "                          Name  Math_Avg  Reading_Avg  Attendance_Ratio  \\\n",
       "20   GRAMERCY ARTS HIGH SCHOOL       391          391             0.181   \n",
       "21                 NYC ISCHOOL       483          473             0.086   \n",
       "22  MANHATTAN BUSINESS ACADEMY         0            0             0.184   \n",
       "23   BUSINESS OF SPORTS SCHOOL         0            0             0.186   \n",
       "24    EMMA LAZARUS HIGH SCHOOL       512          319             0.076   \n",
       "\n",
       "    Rating  \n",
       "20       3  \n",
       "21       4  \n",
       "22       3  \n",
       "23       3  \n",
       "24       3  "
      ]
     },
     "execution_count": 3,
     "metadata": {},
     "output_type": "execute_result"
    }
   ],
   "source": [
    "df.iloc[20:25,]"
   ]
  },
  {
   "cell_type": "code",
   "execution_count": 4,
   "metadata": {},
   "outputs": [],
   "source": [
    "#This will get rid of all values of 0 in rows\n",
    "df= df[(df != 0).all(1)]"
   ]
  },
  {
   "cell_type": "code",
   "execution_count": 5,
   "metadata": {
    "scrolled": true
   },
   "outputs": [
    {
     "data": {
      "text/html": [
       "<div>\n",
       "<style scoped>\n",
       "    .dataframe tbody tr th:only-of-type {\n",
       "        vertical-align: middle;\n",
       "    }\n",
       "\n",
       "    .dataframe tbody tr th {\n",
       "        vertical-align: top;\n",
       "    }\n",
       "\n",
       "    .dataframe thead th {\n",
       "        text-align: right;\n",
       "    }\n",
       "</style>\n",
       "<table border=\"1\" class=\"dataframe\">\n",
       "  <thead>\n",
       "    <tr style=\"text-align: right;\">\n",
       "      <th></th>\n",
       "      <th>Name</th>\n",
       "      <th>Math_Avg</th>\n",
       "      <th>Reading_Avg</th>\n",
       "      <th>Attendance_Ratio</th>\n",
       "      <th>Rating</th>\n",
       "    </tr>\n",
       "  </thead>\n",
       "  <tbody>\n",
       "    <tr>\n",
       "      <th>20</th>\n",
       "      <td>GRAMERCY ARTS HIGH SCHOOL</td>\n",
       "      <td>391</td>\n",
       "      <td>391</td>\n",
       "      <td>0.181</td>\n",
       "      <td>3</td>\n",
       "    </tr>\n",
       "    <tr>\n",
       "      <th>21</th>\n",
       "      <td>NYC ISCHOOL</td>\n",
       "      <td>483</td>\n",
       "      <td>473</td>\n",
       "      <td>0.086</td>\n",
       "      <td>4</td>\n",
       "    </tr>\n",
       "    <tr>\n",
       "      <th>24</th>\n",
       "      <td>EMMA LAZARUS HIGH SCHOOL</td>\n",
       "      <td>512</td>\n",
       "      <td>319</td>\n",
       "      <td>0.076</td>\n",
       "      <td>3</td>\n",
       "    </tr>\n",
       "    <tr>\n",
       "      <th>26</th>\n",
       "      <td>HIGH SCHOOL FOR ENVIRONMENTAL STUDIES</td>\n",
       "      <td>493</td>\n",
       "      <td>465</td>\n",
       "      <td>0.113</td>\n",
       "      <td>4</td>\n",
       "    </tr>\n",
       "    <tr>\n",
       "      <th>27</th>\n",
       "      <td>INSTITUTE FOR COLLABORATIVE EDUCATION</td>\n",
       "      <td>465</td>\n",
       "      <td>492</td>\n",
       "      <td>0.080</td>\n",
       "      <td>4</td>\n",
       "    </tr>\n",
       "  </tbody>\n",
       "</table>\n",
       "</div>"
      ],
      "text/plain": [
       "                                     Name  Math_Avg  Reading_Avg  \\\n",
       "20              GRAMERCY ARTS HIGH SCHOOL       391          391   \n",
       "21                            NYC ISCHOOL       483          473   \n",
       "24               EMMA LAZARUS HIGH SCHOOL       512          319   \n",
       "26  HIGH SCHOOL FOR ENVIRONMENTAL STUDIES       493          465   \n",
       "27  INSTITUTE FOR COLLABORATIVE EDUCATION       465          492   \n",
       "\n",
       "    Attendance_Ratio  Rating  \n",
       "20             0.181       3  \n",
       "21             0.086       4  \n",
       "24             0.076       3  \n",
       "26             0.113       4  \n",
       "27             0.080       4  "
      ]
     },
     "execution_count": 5,
     "metadata": {},
     "output_type": "execute_result"
    }
   ],
   "source": [
    "df.iloc[20:25,]"
   ]
  },
  {
   "cell_type": "code",
   "execution_count": 6,
   "metadata": {
    "scrolled": false
   },
   "outputs": [
    {
     "data": {
      "text/plain": [
       "Rating\n",
       "1     18\n",
       "2     79\n",
       "3    197\n",
       "4    111\n",
       "Name: Rating, dtype: int64"
      ]
     },
     "execution_count": 6,
     "metadata": {},
     "output_type": "execute_result"
    }
   ],
   "source": [
    "rating= df.groupby('Rating').Rating.count()\n",
    "'''Count how many times each rating group occured. \n",
    "This already shows that our data with be skewed because of uneven sampling distribution'''\n",
    "rating"
   ]
  },
  {
   "cell_type": "code",
   "execution_count": 7,
   "metadata": {},
   "outputs": [
    {
     "data": {
      "text/plain": [
       "Rating\n",
       "1    387.833333\n",
       "2    384.101266\n",
       "3    410.329949\n",
       "4    449.171171\n",
       "Name: Math_Avg, dtype: float64"
      ]
     },
     "execution_count": 7,
     "metadata": {},
     "output_type": "execute_result"
    }
   ],
   "source": [
    "'''Find math sat avg for each rating'''\n",
    "math_r_avg= df.groupby(['Rating'])['Math_Avg'].mean()\n",
    "math_r_avg"
   ]
  },
  {
   "cell_type": "code",
   "execution_count": 8,
   "metadata": {
    "scrolled": true
   },
   "outputs": [
    {
     "data": {
      "text/plain": [
       "Rating\n",
       "1    22.747333\n",
       "2    30.501196\n",
       "3    58.729645\n",
       "4    81.955739\n",
       "Name: Math_Avg, dtype: float64"
      ]
     },
     "execution_count": 8,
     "metadata": {},
     "output_type": "execute_result"
    }
   ],
   "source": [
    "'''Find math sat std for each rating'''\n",
    "math_r_std= df.groupby(['Rating'])['Math_Avg'].std()\n",
    "math_r_std"
   ]
  },
  {
   "cell_type": "code",
   "execution_count": 9,
   "metadata": {},
   "outputs": [
    {
     "data": {
      "text/plain": [
       "405"
      ]
     },
     "execution_count": 9,
     "metadata": {},
     "output_type": "execute_result"
    }
   ],
   "source": [
    "\"\"\"total math len presents\"\"\"\n",
    "math_pop= df['Math_Avg'].count()\n",
    "math_pop"
   ]
  },
  {
   "cell_type": "code",
   "execution_count": 10,
   "metadata": {},
   "outputs": [
    {
     "data": {
      "text/plain": [
       "414.85925925925926"
      ]
     },
     "execution_count": 10,
     "metadata": {},
     "output_type": "execute_result"
    }
   ],
   "source": [
    "'''this is just the math average, without taking into consideration the rating of school\n",
    "the math average of all schools is similar to the math average of the rating 3 school\n",
    "this has to do with sample size'''\n",
    "math_pop_mean= df['Math_Avg'].mean()\n",
    "math_pop_mean"
   ]
  },
  {
   "cell_type": "code",
   "execution_count": 11,
   "metadata": {},
   "outputs": [
    {
     "data": {
      "text/plain": [
       "65.22711612257409"
      ]
     },
     "execution_count": 11,
     "metadata": {},
     "output_type": "execute_result"
    }
   ],
   "source": [
    "math_pop_std= df['Math_Avg'].std()\n",
    "math_pop_std"
   ]
  },
  {
   "cell_type": "code",
   "execution_count": 12,
   "metadata": {
    "scrolled": true
   },
   "outputs": [
    {
     "data": {
      "text/plain": [
       "Ttest_indResult(statistic=Rating\n",
       "1    1.751410\n",
       "2    4.102059\n",
       "3    0.825330\n",
       "4   -4.631557\n",
       "Name: Math_Avg, dtype: float64, pvalue=array([8.06034519e-02, 4.80703075e-05, 4.09512336e-01, 4.60385564e-06]))"
      ]
     },
     "execution_count": 12,
     "metadata": {},
     "output_type": "execute_result"
    }
   ],
   "source": [
    "\"two-sample t-test for math ratings\"\n",
    "math_rating_ttest= stats.ttest_ind_from_stats(math_pop_mean, math_pop_std, math_pop, math_r_avg, math_r_std, rating)\n",
    "math_rating_ttest"
   ]
  },
  {
   "cell_type": "code",
   "execution_count": 13,
   "metadata": {},
   "outputs": [
    {
     "name": "stdout",
     "output_type": "stream",
     "text": [
      "the above results tell us there is significant relationship between math sat scores and school rating. lets break it down.\n",
      "our null hypothesis is that there is no difference between school rating and math sat scores\n",
      "alternative is there is significant difference, with alpha at 0.05\n",
      "we will ignore rating 1- due to small sample size and rating 3- due to sample size being half of total sample. skew results even though they are significant\n",
      "looking at 2 and 4, sample size are similar to each other and about the same portion from total population\n",
      "both pvalue are less than alpha, stating there is significant difference between school rating and math sat scores\n"
     ]
    }
   ],
   "source": [
    "print('the above results tell us there is significant relationship between math sat scores and school rating. lets break it down.')\n",
    "print('our null hypothesis is that there is no difference between school rating and math sat scores')\n",
    "print('alternative is there is significant difference, with alpha at 0.05')\n",
    "print('we will ignore rating 1- due to small sample size and rating 3- due to sample size being half of total sample. skew results even though they are significant')\n",
    "print('looking at 2 and 4, sample size are similar to each other and about the same portion from total population')\n",
    "print('both pvalue are less than alpha, stating there is significant difference between school rating and math sat scores')"
   ]
  },
  {
   "cell_type": "code",
   "execution_count": 14,
   "metadata": {},
   "outputs": [
    {
     "data": {
      "text/plain": [
       "Rating\n",
       "1    376.833333\n",
       "2    378.835443\n",
       "3    397.101523\n",
       "4    428.918919\n",
       "Name: Reading_Avg, dtype: float64"
      ]
     },
     "execution_count": 14,
     "metadata": {},
     "output_type": "execute_result"
    }
   ],
   "source": [
    "'''Find reading sat avg for each rating'''\n",
    "reading_r_avg= df.groupby(['Rating'])['Reading_Avg'].mean()\n",
    "reading_r_avg"
   ]
  },
  {
   "cell_type": "code",
   "execution_count": 15,
   "metadata": {
    "scrolled": true
   },
   "outputs": [
    {
     "data": {
      "text/plain": [
       "Rating\n",
       "1    17.550767\n",
       "2    29.348669\n",
       "3    49.537039\n",
       "4    76.112373\n",
       "Name: Reading_Avg, dtype: float64"
      ]
     },
     "execution_count": 15,
     "metadata": {},
     "output_type": "execute_result"
    }
   ],
   "source": [
    "'''Find reading sat std for each rating'''\n",
    "reading_r_std= df.groupby(['Rating'])['Reading_Avg'].std()\n",
    "reading_r_std"
   ]
  },
  {
   "cell_type": "code",
   "execution_count": 16,
   "metadata": {},
   "outputs": [
    {
     "data": {
      "text/plain": [
       "401.358024691358"
      ]
     },
     "execution_count": 16,
     "metadata": {},
     "output_type": "execute_result"
    }
   ],
   "source": [
    "'''reading population mean, overall mean not categorized by rating'''\n",
    "reading_pop_mean= df['Reading_Avg'].mean()\n",
    "reading_pop_mean"
   ]
  },
  {
   "cell_type": "code",
   "execution_count": 17,
   "metadata": {},
   "outputs": [
    {
     "data": {
      "text/plain": [
       "57.364025329722935"
      ]
     },
     "execution_count": 17,
     "metadata": {},
     "output_type": "execute_result"
    }
   ],
   "source": [
    "'''rading population std'''\n",
    "reading_pop_std= df['Reading_Avg'].std()\n",
    "reading_pop_std"
   ]
  },
  {
   "cell_type": "code",
   "execution_count": 18,
   "metadata": {},
   "outputs": [
    {
     "data": {
      "text/plain": [
       "405"
      ]
     },
     "execution_count": 18,
     "metadata": {},
     "output_type": "execute_result"
    }
   ],
   "source": [
    "'''reading population- total reading sample size'''\n",
    "reading_pop= df['Reading_Avg'].count()\n",
    "reading_pop"
   ]
  },
  {
   "cell_type": "code",
   "execution_count": 19,
   "metadata": {},
   "outputs": [
    {
     "data": {
      "text/plain": [
       "Ttest_indResult(statistic=Rating\n",
       "1    1.808232\n",
       "2    3.401920\n",
       "3    0.892084\n",
       "4   -4.158866\n",
       "Name: Reading_Avg, dtype: float64, pvalue=array([7.12837765e-02, 7.24830609e-04, 3.72705703e-01, 3.74778441e-05]))"
      ]
     },
     "execution_count": 19,
     "metadata": {},
     "output_type": "execute_result"
    }
   ],
   "source": [
    "'''two sample t_test for reading sat'''\n",
    "reading_rating_ttest= stats.ttest_ind_from_stats(reading_pop_mean, reading_pop_std, reading_pop, reading_r_avg, reading_r_std, rating)\n",
    "reading_rating_ttest"
   ]
  },
  {
   "cell_type": "code",
   "execution_count": 20,
   "metadata": {},
   "outputs": [
    {
     "name": "stdout",
     "output_type": "stream",
     "text": [
      "the above results tell us there is significant relationship between reading sat scores and school rating. lets break it down.\n",
      "our null hypothesis is that there is no difference between school rating and reading sat scores\n",
      "alternative is there is significant difference, with alpha at 0.05\n",
      "we will ignore rating 1- due to small sample size and rating 3- due to sample size being half of total sample. skew results even though they are significant\n",
      "looking at 2 and 4, sample size are similar to each other and about the same portion from total population\n",
      "both pvalue are less than alpha, stating there is significant difference between school rating and reading sat scores\n"
     ]
    }
   ],
   "source": [
    "print('the above results tell us there is significant relationship between reading sat scores and school rating. lets break it down.')\n",
    "print('our null hypothesis is that there is no difference between school rating and reading sat scores')\n",
    "print('alternative is there is significant difference, with alpha at 0.05')\n",
    "print('we will ignore rating 1- due to small sample size and rating 3- due to sample size being half of total sample. skew results even though they are significant')\n",
    "print('looking at 2 and 4, sample size are similar to each other and about the same portion from total population')\n",
    "print('both pvalue are less than alpha, stating there is significant difference between school rating and reading sat scores')"
   ]
  },
  {
   "cell_type": "code",
   "execution_count": 21,
   "metadata": {
    "scrolled": true
   },
   "outputs": [
    {
     "data": {
      "text/plain": [
       "Rating\n",
       "1    0.326389\n",
       "2    0.279848\n",
       "3    0.189721\n",
       "4    0.138667\n",
       "Name: Attendance_Ratio, dtype: float64"
      ]
     },
     "execution_count": 21,
     "metadata": {},
     "output_type": "execute_result"
    }
   ],
   "source": [
    "'''finding absence avg by rating'''\n",
    "absence_r_avg= df.groupby(['Rating'])['Attendance_Ratio'].mean()\n",
    "absence_r_avg"
   ]
  },
  {
   "cell_type": "code",
   "execution_count": 22,
   "metadata": {},
   "outputs": [
    {
     "data": {
      "text/plain": [
       "Rating\n",
       "1    0.147414\n",
       "2    0.144640\n",
       "3    0.114124\n",
       "4    0.110959\n",
       "Name: Attendance_Ratio, dtype: float64"
      ]
     },
     "execution_count": 22,
     "metadata": {},
     "output_type": "execute_result"
    }
   ],
   "source": [
    "'''finding absence std by rating'''\n",
    "absence_r_std= df.groupby(['Rating'])['Attendance_Ratio'].std()\n",
    "absence_r_std"
   ]
  },
  {
   "cell_type": "code",
   "execution_count": 35,
   "metadata": {},
   "outputs": [
    {
     "data": {
      "text/plain": [
       "0.1993827160493825"
      ]
     },
     "execution_count": 35,
     "metadata": {},
     "output_type": "execute_result"
    }
   ],
   "source": [
    "'''finding absence pop avg'''\n",
    "absence_pop_mean= df['Attendance_Ratio'].mean()\n",
    "absence_pop_mean"
   ]
  },
  {
   "cell_type": "code",
   "execution_count": 32,
   "metadata": {},
   "outputs": [
    {
     "data": {
      "text/plain": [
       "0.1329197971440027"
      ]
     },
     "execution_count": 32,
     "metadata": {},
     "output_type": "execute_result"
    }
   ],
   "source": [
    "'''finding absence pop std'''\n",
    "absence_pop_std= df['Attendance_Ratio'].std()\n",
    "absence_pop_std"
   ]
  },
  {
   "cell_type": "code",
   "execution_count": 33,
   "metadata": {},
   "outputs": [
    {
     "data": {
      "text/plain": [
       "405"
      ]
     },
     "execution_count": 33,
     "metadata": {},
     "output_type": "execute_result"
    }
   ],
   "source": [
    "'''total absence population'''\n",
    "absence_pop= df['Attendance_Ratio'].count()\n",
    "absence_pop"
   ]
  },
  {
   "cell_type": "code",
   "execution_count": 36,
   "metadata": {},
   "outputs": [
    {
     "data": {
      "text/plain": [
       "Ttest_indResult(statistic=Rating\n",
       "1   -3.948403\n",
       "2   -4.850227\n",
       "3    0.875241\n",
       "4    4.409030\n",
       "Name: Attendance_Ratio, dtype: float64, pvalue=array([9.22007921e-05, 1.66709493e-06, 3.81792886e-01, 1.26508796e-05]))"
      ]
     },
     "execution_count": 36,
     "metadata": {},
     "output_type": "execute_result"
    }
   ],
   "source": [
    "'''two sample t-test for absence ratio'''\n",
    "absence_ttest= stats.ttest_ind_from_stats(absence_pop_mean, absence_pop_std, absence_pop, absence_r_avg, absence_r_std, rating)\n",
    "absence_ttest"
   ]
  },
  {
   "cell_type": "code",
   "execution_count": 37,
   "metadata": {},
   "outputs": [
    {
     "name": "stdout",
     "output_type": "stream",
     "text": [
      "the above results tell us there is significant relationship between absence and school rating. lets break it down.\n",
      "our null hypothesis is that there is no difference between school rating and student absence\n",
      "alternative is there is significant difference, with alpha at 0.05\n",
      "we will ignore rating 1- due to small sample size and rating 3- due to sample size being half of total sample. skew results even though they are significant\n",
      "looking at 2 and 4, sample size are similar to each other and about the same portion from total population\n",
      "both pvalue are less than alpha, stating there is significant difference between school rating and student absence\n"
     ]
    }
   ],
   "source": [
    "print('the above results tell us there is significant relationship between absence and school rating. lets break it down.')\n",
    "print('our null hypothesis is that there is no difference between school rating and student absence')\n",
    "print('alternative is there is significant difference, with alpha at 0.05')\n",
    "print('we will ignore rating 1- due to small sample size and rating 3- due to sample size being half of total sample. skew results even though they are significant')\n",
    "print('looking at 2 and 4, sample size are similar to each other and about the same portion from total population')\n",
    "print('both pvalue are less than alpha, stating there is significant difference between school rating and student absence')"
   ]
  },
  {
   "cell_type": "code",
   "execution_count": null,
   "metadata": {},
   "outputs": [],
   "source": [
    "print('still need to add linear regression to quantify the difference')"
   ]
  },
  {
   "cell_type": "code",
   "execution_count": null,
   "metadata": {},
   "outputs": [],
   "source": []
  },
  {
   "cell_type": "markdown",
   "metadata": {},
   "source": [
    "**IGNORE EVERYTHING BELOW**"
   ]
  },
  {
   "cell_type": "code",
   "execution_count": 25,
   "metadata": {},
   "outputs": [
    {
     "data": {
      "text/html": [
       "<div>\n",
       "<style scoped>\n",
       "    .dataframe tbody tr th:only-of-type {\n",
       "        vertical-align: middle;\n",
       "    }\n",
       "\n",
       "    .dataframe tbody tr th {\n",
       "        vertical-align: top;\n",
       "    }\n",
       "\n",
       "    .dataframe thead th {\n",
       "        text-align: right;\n",
       "    }\n",
       "</style>\n",
       "<table border=\"1\" class=\"dataframe\">\n",
       "  <thead>\n",
       "    <tr style=\"text-align: right;\">\n",
       "      <th></th>\n",
       "      <th>Rating</th>\n",
       "      <th>Rating Count</th>\n",
       "      <th>Math_Rating</th>\n",
       "      <th>Reading_Rating</th>\n",
       "      <th>Absense_Rating</th>\n",
       "    </tr>\n",
       "  </thead>\n",
       "  <tbody>\n",
       "    <tr>\n",
       "      <th>0</th>\n",
       "      <td>1</td>\n",
       "      <td>18</td>\n",
       "      <td>387.83</td>\n",
       "      <td>376.83</td>\n",
       "      <td>0.33</td>\n",
       "    </tr>\n",
       "    <tr>\n",
       "      <th>1</th>\n",
       "      <td>2</td>\n",
       "      <td>79</td>\n",
       "      <td>384.10</td>\n",
       "      <td>378.85</td>\n",
       "      <td>0.28</td>\n",
       "    </tr>\n",
       "    <tr>\n",
       "      <th>2</th>\n",
       "      <td>3</td>\n",
       "      <td>197</td>\n",
       "      <td>410.33</td>\n",
       "      <td>397.10</td>\n",
       "      <td>0.19</td>\n",
       "    </tr>\n",
       "    <tr>\n",
       "      <th>3</th>\n",
       "      <td>4</td>\n",
       "      <td>111</td>\n",
       "      <td>449.17</td>\n",
       "      <td>428.92</td>\n",
       "      <td>0.14</td>\n",
       "    </tr>\n",
       "  </tbody>\n",
       "</table>\n",
       "</div>"
      ],
      "text/plain": [
       "   Rating  Rating Count  Math_Rating  Reading_Rating  Absense_Rating\n",
       "0       1            18       387.83          376.83            0.33\n",
       "1       2            79       384.10          378.85            0.28\n",
       "2       3           197       410.33          397.10            0.19\n",
       "3       4           111       449.17          428.92            0.14"
      ]
     },
     "execution_count": 25,
     "metadata": {},
     "output_type": "execute_result"
    }
   ],
   "source": [
    "'''just all the data from rating group in a neat table'''\n",
    "data= {'Rating': [1, 2, 3, 4], 'Rating Count': [18, 79, 197, 111], 'Math_Rating': [387.83, 384.10, 410.33, 449.17], 'Reading_Rating': [376.83, 378.85, 397.10, 428.92], \"Absense_Rating\": [0.33, 0.28, 0.19, 0.14]}\n",
    "school_stats= pd.DataFrame.from_dict(data)\n",
    "school_stats.head()"
   ]
  },
  {
   "cell_type": "code",
   "execution_count": 26,
   "metadata": {
    "scrolled": false
   },
   "outputs": [
    {
     "data": {
      "text/html": [
       "<div>\n",
       "<style scoped>\n",
       "    .dataframe tbody tr th:only-of-type {\n",
       "        vertical-align: middle;\n",
       "    }\n",
       "\n",
       "    .dataframe tbody tr th {\n",
       "        vertical-align: top;\n",
       "    }\n",
       "\n",
       "    .dataframe thead th {\n",
       "        text-align: right;\n",
       "    }\n",
       "</style>\n",
       "<table border=\"1\" class=\"dataframe\">\n",
       "  <thead>\n",
       "    <tr style=\"text-align: right;\">\n",
       "      <th></th>\n",
       "      <th>Rating</th>\n",
       "      <th>Rating Count</th>\n",
       "      <th>Math_Rating</th>\n",
       "      <th>Reading_Rating</th>\n",
       "      <th>Absense_Rating</th>\n",
       "    </tr>\n",
       "  </thead>\n",
       "  <tbody>\n",
       "    <tr>\n",
       "      <th>count</th>\n",
       "      <td>4.000000</td>\n",
       "      <td>4.000000</td>\n",
       "      <td>4.000000</td>\n",
       "      <td>4.000000</td>\n",
       "      <td>4.000000</td>\n",
       "    </tr>\n",
       "    <tr>\n",
       "      <th>mean</th>\n",
       "      <td>2.500000</td>\n",
       "      <td>101.250000</td>\n",
       "      <td>407.857500</td>\n",
       "      <td>395.425000</td>\n",
       "      <td>0.235000</td>\n",
       "    </tr>\n",
       "    <tr>\n",
       "      <th>std</th>\n",
       "      <td>1.290994</td>\n",
       "      <td>74.584963</td>\n",
       "      <td>29.879511</td>\n",
       "      <td>24.119324</td>\n",
       "      <td>0.085829</td>\n",
       "    </tr>\n",
       "    <tr>\n",
       "      <th>min</th>\n",
       "      <td>1.000000</td>\n",
       "      <td>18.000000</td>\n",
       "      <td>384.100000</td>\n",
       "      <td>376.830000</td>\n",
       "      <td>0.140000</td>\n",
       "    </tr>\n",
       "    <tr>\n",
       "      <th>25%</th>\n",
       "      <td>1.750000</td>\n",
       "      <td>63.750000</td>\n",
       "      <td>386.897500</td>\n",
       "      <td>378.345000</td>\n",
       "      <td>0.177500</td>\n",
       "    </tr>\n",
       "    <tr>\n",
       "      <th>50%</th>\n",
       "      <td>2.500000</td>\n",
       "      <td>95.000000</td>\n",
       "      <td>399.080000</td>\n",
       "      <td>387.975000</td>\n",
       "      <td>0.235000</td>\n",
       "    </tr>\n",
       "    <tr>\n",
       "      <th>75%</th>\n",
       "      <td>3.250000</td>\n",
       "      <td>132.500000</td>\n",
       "      <td>420.040000</td>\n",
       "      <td>405.055000</td>\n",
       "      <td>0.292500</td>\n",
       "    </tr>\n",
       "    <tr>\n",
       "      <th>max</th>\n",
       "      <td>4.000000</td>\n",
       "      <td>197.000000</td>\n",
       "      <td>449.170000</td>\n",
       "      <td>428.920000</td>\n",
       "      <td>0.330000</td>\n",
       "    </tr>\n",
       "  </tbody>\n",
       "</table>\n",
       "</div>"
      ],
      "text/plain": [
       "         Rating  Rating Count  Math_Rating  Reading_Rating  Absense_Rating\n",
       "count  4.000000      4.000000     4.000000        4.000000        4.000000\n",
       "mean   2.500000    101.250000   407.857500      395.425000        0.235000\n",
       "std    1.290994     74.584963    29.879511       24.119324        0.085829\n",
       "min    1.000000     18.000000   384.100000      376.830000        0.140000\n",
       "25%    1.750000     63.750000   386.897500      378.345000        0.177500\n",
       "50%    2.500000     95.000000   399.080000      387.975000        0.235000\n",
       "75%    3.250000    132.500000   420.040000      405.055000        0.292500\n",
       "max    4.000000    197.000000   449.170000      428.920000        0.330000"
      ]
     },
     "execution_count": 26,
     "metadata": {},
     "output_type": "execute_result"
    }
   ],
   "source": [
    "'''describing all basic statistical information one may want'''\n",
    "school_stats.describe()"
   ]
  },
  {
   "cell_type": "code",
   "execution_count": 27,
   "metadata": {},
   "outputs": [
    {
     "data": {
      "text/plain": [
       "Rating            0.000000\n",
       "Rating Count      0.467225\n",
       "Math_Rating       1.226618\n",
       "Reading_Rating    1.263844\n",
       "Absense_Rating    0.000000\n",
       "dtype: float64"
      ]
     },
     "execution_count": 27,
     "metadata": {},
     "output_type": "execute_result"
    }
   ],
   "source": [
    "'''skew defines asymetry. rating is 1-4 and absense is less than 1\n",
    "rating count shows skewness due to not all rating having the same numbers of samples\n",
    "math and reading have a positive skew, meaning most of the data would be closer to 1 than 0'''\n",
    "school_stats.skew()"
   ]
  },
  {
   "cell_type": "code",
   "execution_count": 28,
   "metadata": {},
   "outputs": [
    {
     "data": {
      "text/html": [
       "<div>\n",
       "<style scoped>\n",
       "    .dataframe tbody tr th:only-of-type {\n",
       "        vertical-align: middle;\n",
       "    }\n",
       "\n",
       "    .dataframe tbody tr th {\n",
       "        vertical-align: top;\n",
       "    }\n",
       "\n",
       "    .dataframe thead th {\n",
       "        text-align: right;\n",
       "    }\n",
       "</style>\n",
       "<table border=\"1\" class=\"dataframe\">\n",
       "  <thead>\n",
       "    <tr style=\"text-align: right;\">\n",
       "      <th></th>\n",
       "      <th>Math_var</th>\n",
       "      <th>Math_std</th>\n",
       "      <th>Reading_var</th>\n",
       "      <th>Reading_std</th>\n",
       "      <th>Absense_var</th>\n",
       "      <th>Absense_std</th>\n",
       "    </tr>\n",
       "  </thead>\n",
       "  <tbody>\n",
       "    <tr>\n",
       "      <th>0</th>\n",
       "      <td>669.56</td>\n",
       "      <td>25.86</td>\n",
       "      <td>436.38</td>\n",
       "      <td>20.89</td>\n",
       "      <td>0.005</td>\n",
       "      <td>0.074</td>\n",
       "    </tr>\n",
       "  </tbody>\n",
       "</table>\n",
       "</div>"
      ],
      "text/plain": [
       "   Math_var  Math_std  Reading_var  Reading_std  Absense_var  Absense_std\n",
       "0    669.56     25.86       436.38        20.89        0.005        0.074"
      ]
     },
     "execution_count": 28,
     "metadata": {},
     "output_type": "execute_result"
    }
   ],
   "source": [
    "data2= {'Math_var': [669.56], 'Math_std': [25.86], 'Reading_var': [436.38], 'Reading_std': [20.89], 'Absense_var': [0.005], 'Absense_std': [0.074]}\n",
    "var_stds= pd.DataFrame.from_dict(data2)\n",
    "var_stds"
   ]
  },
  {
   "cell_type": "code",
   "execution_count": 29,
   "metadata": {
    "scrolled": true
   },
   "outputs": [
    {
     "data": {
      "text/html": [
       "<div>\n",
       "<style scoped>\n",
       "    .dataframe tbody tr th:only-of-type {\n",
       "        vertical-align: middle;\n",
       "    }\n",
       "\n",
       "    .dataframe tbody tr th {\n",
       "        vertical-align: top;\n",
       "    }\n",
       "\n",
       "    .dataframe thead th {\n",
       "        text-align: right;\n",
       "    }\n",
       "</style>\n",
       "<table border=\"1\" class=\"dataframe\">\n",
       "  <thead>\n",
       "    <tr style=\"text-align: right;\">\n",
       "      <th></th>\n",
       "      <th>Rating</th>\n",
       "      <th>Rating Count</th>\n",
       "      <th>Math_Rating</th>\n",
       "      <th>Reading_Rating</th>\n",
       "      <th>Absense_Rating</th>\n",
       "    </tr>\n",
       "  </thead>\n",
       "  <tbody>\n",
       "    <tr>\n",
       "      <th>Rating</th>\n",
       "      <td>1.000000</td>\n",
       "      <td>0.687169</td>\n",
       "      <td>0.908420</td>\n",
       "      <td>0.934124</td>\n",
       "      <td>-0.992734</td>\n",
       "    </tr>\n",
       "    <tr>\n",
       "      <th>Rating Count</th>\n",
       "      <td>0.687169</td>\n",
       "      <td>1.000000</td>\n",
       "      <td>0.424105</td>\n",
       "      <td>0.445408</td>\n",
       "      <td>-0.736538</td>\n",
       "    </tr>\n",
       "    <tr>\n",
       "      <th>Math_Rating</th>\n",
       "      <td>0.908420</td>\n",
       "      <td>0.424105</td>\n",
       "      <td>1.000000</td>\n",
       "      <td>0.996334</td>\n",
       "      <td>-0.910840</td>\n",
       "    </tr>\n",
       "    <tr>\n",
       "      <th>Reading_Rating</th>\n",
       "      <td>0.934124</td>\n",
       "      <td>0.445408</td>\n",
       "      <td>0.996334</td>\n",
       "      <td>1.000000</td>\n",
       "      <td>-0.929050</td>\n",
       "    </tr>\n",
       "    <tr>\n",
       "      <th>Absense_Rating</th>\n",
       "      <td>-0.992734</td>\n",
       "      <td>-0.736538</td>\n",
       "      <td>-0.910840</td>\n",
       "      <td>-0.929050</td>\n",
       "      <td>1.000000</td>\n",
       "    </tr>\n",
       "  </tbody>\n",
       "</table>\n",
       "</div>"
      ],
      "text/plain": [
       "                  Rating  Rating Count  Math_Rating  Reading_Rating  \\\n",
       "Rating          1.000000      0.687169     0.908420        0.934124   \n",
       "Rating Count    0.687169      1.000000     0.424105        0.445408   \n",
       "Math_Rating     0.908420      0.424105     1.000000        0.996334   \n",
       "Reading_Rating  0.934124      0.445408     0.996334        1.000000   \n",
       "Absense_Rating -0.992734     -0.736538    -0.910840       -0.929050   \n",
       "\n",
       "                Absense_Rating  \n",
       "Rating               -0.992734  \n",
       "Rating Count         -0.736538  \n",
       "Math_Rating          -0.910840  \n",
       "Reading_Rating       -0.929050  \n",
       "Absense_Rating        1.000000  "
      ]
     },
     "execution_count": 29,
     "metadata": {},
     "output_type": "execute_result"
    }
   ],
   "source": [
    "'''showing correlation between each column.\n",
    "both math and reading have a high correlation with rating while absense has negative correlation\n",
    "this may mean that less absense leads to better score'''\n",
    "school_stats.corr()"
   ]
  },
  {
   "cell_type": "code",
   "execution_count": 30,
   "metadata": {},
   "outputs": [
    {
     "data": {
      "text/html": [
       "<div>\n",
       "<style scoped>\n",
       "    .dataframe tbody tr th:only-of-type {\n",
       "        vertical-align: middle;\n",
       "    }\n",
       "\n",
       "    .dataframe tbody tr th {\n",
       "        vertical-align: top;\n",
       "    }\n",
       "\n",
       "    .dataframe thead th {\n",
       "        text-align: right;\n",
       "    }\n",
       "</style>\n",
       "<table border=\"1\" class=\"dataframe\">\n",
       "  <thead>\n",
       "    <tr style=\"text-align: right;\">\n",
       "      <th></th>\n",
       "      <th>Rating</th>\n",
       "      <th>Rating Count</th>\n",
       "      <th>Math_Rating</th>\n",
       "      <th>Reading_Rating</th>\n",
       "      <th>Absense_Rating</th>\n",
       "    </tr>\n",
       "  </thead>\n",
       "  <tbody>\n",
       "    <tr>\n",
       "      <th>Rating</th>\n",
       "      <td>1.666667</td>\n",
       "      <td>66.166667</td>\n",
       "      <td>35.041667</td>\n",
       "      <td>29.086667</td>\n",
       "      <td>-0.110000</td>\n",
       "    </tr>\n",
       "    <tr>\n",
       "      <th>Rating Count</th>\n",
       "      <td>66.166667</td>\n",
       "      <td>5562.916667</td>\n",
       "      <td>945.144167</td>\n",
       "      <td>801.261667</td>\n",
       "      <td>-4.715000</td>\n",
       "    </tr>\n",
       "    <tr>\n",
       "      <th>Math_Rating</th>\n",
       "      <td>35.041667</td>\n",
       "      <td>945.144167</td>\n",
       "      <td>892.785158</td>\n",
       "      <td>718.031850</td>\n",
       "      <td>-2.335883</td>\n",
       "    </tr>\n",
       "    <tr>\n",
       "      <th>Reading_Rating</th>\n",
       "      <td>29.086667</td>\n",
       "      <td>801.261667</td>\n",
       "      <td>718.031850</td>\n",
       "      <td>581.741767</td>\n",
       "      <td>-1.923267</td>\n",
       "    </tr>\n",
       "    <tr>\n",
       "      <th>Absense_Rating</th>\n",
       "      <td>-0.110000</td>\n",
       "      <td>-4.715000</td>\n",
       "      <td>-2.335883</td>\n",
       "      <td>-1.923267</td>\n",
       "      <td>0.007367</td>\n",
       "    </tr>\n",
       "  </tbody>\n",
       "</table>\n",
       "</div>"
      ],
      "text/plain": [
       "                   Rating  Rating Count  Math_Rating  Reading_Rating  \\\n",
       "Rating           1.666667     66.166667    35.041667       29.086667   \n",
       "Rating Count    66.166667   5562.916667   945.144167      801.261667   \n",
       "Math_Rating     35.041667    945.144167   892.785158      718.031850   \n",
       "Reading_Rating  29.086667    801.261667   718.031850      581.741767   \n",
       "Absense_Rating  -0.110000     -4.715000    -2.335883       -1.923267   \n",
       "\n",
       "                Absense_Rating  \n",
       "Rating               -0.110000  \n",
       "Rating Count         -4.715000  \n",
       "Math_Rating          -2.335883  \n",
       "Reading_Rating       -1.923267  \n",
       "Absense_Rating        0.007367  "
      ]
     },
     "execution_count": 30,
     "metadata": {},
     "output_type": "execute_result"
    }
   ],
   "source": [
    "'''is a measure of the directional relationship between the returns on two risky assets. \n",
    "A positive covariance means that asset returns move together \n",
    "negative covariance means returns move inversely '''\n",
    "'''this shows similar results to our correlation, meaning there may be some causational relationship'''\n",
    "school_stats.cov()"
   ]
  },
  {
   "cell_type": "code",
   "execution_count": 31,
   "metadata": {},
   "outputs": [
    {
     "data": {
      "text/plain": [
       "1.6666666666666667"
      ]
     },
     "execution_count": 31,
     "metadata": {},
     "output_type": "execute_result"
    }
   ],
   "source": [
    "school_stats['Rating'].var()"
   ]
  },
  {
   "cell_type": "code",
   "execution_count": null,
   "metadata": {},
   "outputs": [],
   "source": []
  }
 ],
 "metadata": {
  "kernelspec": {
   "display_name": "Python 3",
   "language": "python",
   "name": "python3"
  },
  "language_info": {
   "codemirror_mode": {
    "name": "ipython",
    "version": 3
   },
   "file_extension": ".py",
   "mimetype": "text/x-python",
   "name": "python",
   "nbconvert_exporter": "python",
   "pygments_lexer": "ipython3",
   "version": "3.7.0"
  }
 },
 "nbformat": 4,
 "nbformat_minor": 2
}
